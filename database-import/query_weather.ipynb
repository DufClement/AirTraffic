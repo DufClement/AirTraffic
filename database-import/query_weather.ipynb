{
 "cells": [
  {
   "cell_type": "code",
   "execution_count": 1,
   "metadata": {},
   "outputs": [],
   "source": [
    "from flask_sqlalchemy import sqlalchemy\n",
    "# import pymysql\n",
    "from sqlalchemy import create_engine\n",
    "import pandas as pd\n",
    "weather = pd.read_csv('C:\\Dev-Mastere\\testo\\static\\weather.csv')\n",
    "\n",
    "#Examine the shape of the data\n",
    "weather.head()\n",
    "\n",
    "from flask_sqlalchemy import sqlalchemy\n",
    "weather.to_sql('weather', dtype={\n",
    "'origin': sqlalchemy.types.NVARCHAR(length=5),\n",
    "'year': sqlalchemy.types.INT,\n",
    "'month': sqlalchemy.types.INT,\n",
    "'day': sqlalchemy.types.INT,\n",
    "'hour': sqlalchemy.types.INT,\n",
    "'temp': sqlalchemy.types.NVARCHAR(length=6),\n",
    "'dewp': sqlalchemy.types.NVARCHAR(length=5),\n",
    "'humid': sqlalchemy.types.NVARCHAR(length=5),\n",
    "'wind_dir': sqlalchemy.types.NVARCHAR(length=20),\n",
    "'wind_speed': sqlalchemy.types.NVARCHAR(length=40),\n",
    "'wind_gust': sqlalchemy.types.NVARCHAR(length=20),\n",
    "'precip': sqlalchemy.types.Float,\n",
    "'pressure': sqlalchemy.types.NVARCHAR(length=20),\n",
    "'visib': sqlalchemy.types.Float,\n",
    "'time_hour': sqlalchemy.types.NVARCHAR(length=30)\n",
    "\n",
    "},con=engine, if_exists='replace', index = False)"
   ]
  },
  {
   "cell_type": "code",
   "execution_count": null,
   "metadata": {},
   "outputs": [],
   "source": []
  }
 ],
 "metadata": {
  "kernelspec": {
   "display_name": "Python 3",
   "language": "python",
   "name": "python3"
  },
  "language_info": {
   "codemirror_mode": {
    "name": "ipython",
    "version": 3
   },
   "file_extension": ".py",
   "mimetype": "text/x-python",
   "name": "python",
   "nbconvert_exporter": "python",
   "pygments_lexer": "ipython3",
   "version": "3.9.0"
  }
 },
 "nbformat": 4,
 "nbformat_minor": 4
}
